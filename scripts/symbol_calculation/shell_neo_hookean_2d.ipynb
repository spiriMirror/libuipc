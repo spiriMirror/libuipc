{
 "cells": [
  {
   "cell_type": "code",
   "execution_count": null,
   "metadata": {},
   "outputs": [],
   "source": [
    "import sys\n",
    "import os\n",
    "sys.path.append('../')\n",
    "import pathlib as pl\n",
    "from SymEigen import *\n",
    "\n",
    "from sympy import symbols, Matrix, log\n",
    "from project_dir import backend_source_dir\n",
    "\n",
    "Gen = EigenFunctionGenerator()\n",
    "Gen.MacroBeforeFunction(\"__host__ __device__\")\n",
    "Gen.DisableLatexComment()\n",
    "\n",
    "mu, lmbd = symbols(\"mu lambda\")\n",
    "\n",
    "X = Eigen.Vector(\"X\", 9)\n",
    "X0 = X[0:3,0]\n",
    "X1 = X[3:6,0]\n",
    "X2 = X[6:9,0]\n",
    "\n",
    "E01 = X1 - X0\n",
    "E02 = X2 - X0\n",
    "\n",
    "A = Matrix(\n",
    "[\n",
    "    [E01.dot(E01), E01.dot(E02)],\n",
    "    [E02.dot(E01), E02.dot(E02)]\n",
    "])\n",
    "\n",
    "A = Eigen.FromSympy(\"A\", A)\n",
    "\n",
    "VecA = A.Vectorize(\"VecA\")"
   ]
  },
  {
   "cell_type": "code",
   "execution_count": null,
   "metadata": {},
   "outputs": [],
   "source": [
    "import os\n",
    "sys.path.append('../')\n",
    "import pathlib as pl\n",
    "from SymEigen import *\n",
    "\n",
    "from sympy import symbols, Matrix, log\n",
    "from project_dir import backend_source_dir\n",
    "\n",
    "Gen = EigenFunctionGenerator()\n",
    "Gen.MacroBeforeFunction(\"__host__ __device__\")\n",
    "Gen.DisableLatexComment()\n",
    "\n",
    "mu, lmbd = symbols(\"mu lambda\")\n",
    "\n",
    "X = Eigen.Vector(\"X\", 9)\n",
    "X0 = X[0:3,0]\n",
    "X1 = X[3:6,0]\n",
    "X2 = X[6:9,0]\n",
    "\n",
    "E01 = X1 - X0\n",
    "E02 = X2 - X0\n",
    "\n",
    "A = Matrix(\n",
    "[\n",
    "    [E01.dot(E01), E01.dot(E02)],\n",
    "    [E02.dot(E01), E02.dot(E02)]\n",
    "])\n",
    "\n",
    "A = Eigen.FromSympy(\"A\", A)\n",
    "\n",
    "VecA = A.Vectorize(\"VecA\")"
   ]
  },
  {
   "cell_type": "code",
   "execution_count": null,
   "metadata": {},
   "outputs": [],
   "source": [
    "detA = A.det()"
   ]
  },
  {
   "cell_type": "code",
   "execution_count": null,
   "metadata": {},
   "outputs": [],
   "source": [
    "IB = Eigen.Matrix(\"IB\", 2, 2)"
   ]
  },
  {
   "cell_type": "code",
   "execution_count": null,
   "metadata": {},
   "outputs": [],
   "source": [
    "detIB = IB.det()\n",
    "detIB"
   ]
  },
  {
   "cell_type": "code",
   "execution_count": null,
   "metadata": {},
   "outputs": [],
   "source": [
    "lnJ = log(detA * detIB)/2\n",
    "lnJ"
   ]
  },
  {
   "cell_type": "code",
   "execution_count": null,
   "metadata": {},
   "outputs": [],
   "source": [
    "E = (mu / 2 * ((IB * A).trace() - 2 - 2 * lnJ) + lmbd / 2 * lnJ * lnJ)\n",
    "E"
   ]
  },
  {
   "cell_type": "code",
   "execution_count": null,
   "metadata": {},
   "outputs": [],
   "source": [
    "dEdX = VecDiff(E, X)"
   ]
  },
  {
   "cell_type": "code",
   "execution_count": null,
   "metadata": {},
   "outputs": [],
   "source": [
    "ddEddX = VecDiff(dEdX, X)"
   ]
  },
  {
   "cell_type": "code",
   "execution_count": null,
   "metadata": {},
   "outputs": [],
   "source": [
    "ClA = Gen.Closure(X)\n",
    "ClE = Gen.Closure(mu, lmbd, X, IB)\n"
   ]
  },
  {
   "cell_type": "code",
   "execution_count": null,
   "metadata": {},
   "outputs": [],
   "source": [
    "s = f'''\n",
    "{ClA(\"A\",A)}\n",
    "{ClE(\"E\",E)}\n",
    "{ClE(\"dEdX\",dEdX)}\n",
    "{ClE(\"ddEddX\",ddEddX)}\n",
    "'''\n",
    "print(s)\n",
    "\n",
    "f = open( backend_source_dir('cuda') / 'finite_element/constitutions/sym/shell_neo_hookean_2d.inl', 'w')\n",
    "f.write(s)\n",
    "f.close()"
   ]
  }
 ],
 "metadata": {
  "kernelspec": {
   "display_name": "Python 3",
   "language": "python",
   "name": "python3"
  },
  "language_info": {
   "codemirror_mode": {
    "name": "ipython",
    "version": 3
   },
   "file_extension": ".py",
   "mimetype": "text/x-python",
   "name": "python",
   "nbconvert_exporter": "python",
   "pygments_lexer": "ipython3",
   "version": "3.10.18"
  },
  "orig_nbformat": 4
 },
 "nbformat": 4,
 "nbformat_minor": 2
}
